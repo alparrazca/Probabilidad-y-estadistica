{
  "nbformat": 4,
  "nbformat_minor": 0,
  "metadata": {
    "colab": {
      "provenance": [],
      "authorship_tag": "ABX9TyOxe9bBdZZRmla5SD8mkJ9X",
      "include_colab_link": true
    },
    "kernelspec": {
      "name": "python3",
      "display_name": "Python 3"
    },
    "language_info": {
      "name": "python"
    }
  },
  "cells": [
    {
      "cell_type": "markdown",
      "metadata": {
        "id": "view-in-github",
        "colab_type": "text"
      },
      "source": [
        "<a href=\"https://colab.research.google.com/github/alparrazca/Probabilidad-y-estadistica/blob/main/ejemplo_tablib.ipynb\" target=\"_parent\"><img src=\"https://colab.research.google.com/assets/colab-badge.svg\" alt=\"Open In Colab\"/></a>"
      ]
    },
    {
      "cell_type": "code",
      "source": [
        "import tablib  # Biblioteca para manejo de datos tabulares\n",
        "import os\n",
        "\n",
        "# Definimos los encabezados de la tabla\n",
        "headers = ['producto', 'precio por unidad']\n",
        "\n",
        "# Creamos un dataset vacío con los encabezados\n",
        "dataset = tablib.Dataset(headers=headers)\n",
        "\n",
        "# Bucle principal para ingresar productos\n",
        "while True:\n",
        "    producto = input(\"Ingresa el nombre del producto (o 'fin' para terminar): \").strip()\n",
        "\n",
        "    if producto.lower() == 'fin':\n",
        "        guardar = input(\"¿Quieres guardar la tabla? (s/n): \").strip().lower()\n",
        "\n",
        "        if guardar == 's':\n",
        "            formato = input(\"Ingresa el formato de la tabla (csv, json, xml): \").strip().lower()\n",
        "            nombre_archivo = input(\"Ingresa el nombre del archivo (sin extensión): \").strip()\n",
        "\n",
        "            try:\n",
        "                if formato == 'csv':\n",
        "                    with open(nombre_archivo + '.csv', 'w', encoding='utf-8') as f:\n",
        "                        f.write(dataset.export('csv'))\n",
        "                elif formato == 'json':\n",
        "                    with open(nombre_archivo + '.json', 'w', encoding='utf-8') as f:\n",
        "                        f.write(dataset.export('json'))\n",
        "                elif formato == 'xml':\n",
        "                    with open(nombre_archivo + '.xml', 'w', encoding='utf-8') as f:\n",
        "                        f.write(dataset.export('xml'))\n",
        "                else:\n",
        "                    print(\"❌ Formato no válido. No se guardó el archivo.\")\n",
        "                    break\n",
        "\n",
        "                # Mostrar ruta absoluta del archivo guardado\n",
        "                print(\"✅ Archivo guardado en:\", os.path.abspath(nombre_archivo + '.' + formato))\n",
        "\n",
        "            except Exception as e:\n",
        "                print(f\"❌ Ocurrió un error al guardar el archivo: {e}\")\n",
        "        else:\n",
        "            print(\"ℹ️ No se guardó la tabla.\")\n",
        "        break  # Salimos del bucle principal\n",
        "\n",
        "    # Ingreso del precio\n",
        "    try:\n",
        "        precio = float(input(\"Ingresa el precio del producto: \").strip())\n",
        "    except ValueError:\n",
        "        print(\"❌ Ingresa un valor numérico válido.\")\n",
        "        continue  # Vuelve al inicio del bucle\n",
        "\n",
        "    # Agregamos el producto y el precio al dataset\n",
        "    dataset.append([producto, precio])\n",
        "\n",
        "    # Mostramos la tabla actualizada en formato CSV\n",
        "    print(\"\\n📋 Tabla de precios (formato CSV):\")\n",
        "    print(dataset.export('csv'))"
      ],
      "metadata": {
        "id": "kIEFStXEf_vD"
      },
      "execution_count": null,
      "outputs": []
    }
  ]
}